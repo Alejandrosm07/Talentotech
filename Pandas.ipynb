{
  "cells": [
    {
      "cell_type": "code",
      "execution_count": 13,
      "metadata": {
        "colab": {
          "base_uri": "https://localhost:8080/"
        },
        "id": "uRee-SXlQmmw",
        "outputId": "4418c8ab-68dc-46e7-e593-6ddf6db3ad07"
      },
      "outputs": [
        {
          "name": "stdout",
          "output_type": "stream",
          "text": [
            "a    1\n",
            "b    2\n",
            "c    3\n",
            "d    4\n",
            "e    5\n",
            "dtype: int64\n"
          ]
        }
      ],
      "source": [
        "import pandas as pd\n",
        "#Series y Etiquetas\n",
        "data = [1, 2, 3, 4, 5]\n",
        "etiquetas = [\"a\", \"b\", \"c\", \"d\", \"e\"]\n",
        "series = pd.Series(data, index=etiquetas)\n",
        "print(series)"
      ]
    },
    {
      "cell_type": "markdown",
      "metadata": {
        "id": "vm5e4aGNUH-h"
      },
      "source": [
        "DataFrames: Un DataFrame es una estructura bidimensional etiquetada con columnas\n",
        "que pueden contener diferentes tipos de datos. Puedes pensar en él como una hoja de\n",
        "cálculo o una tabla SQL.\n",
        "\n",
        "Columnas: Cada columna en un DataFrame es esencialmente una Serie.\n",
        "\n",
        "Índices: Los DataFrames tienen índices tanto para las como para columnas.\n",
        "Creación de un DataFrame:"
      ]
    },
    {
      "cell_type": "code",
      "execution_count": 5,
      "metadata": {
        "colab": {
          "base_uri": "https://localhost:8080/"
        },
        "id": "kEBzE05nUPkO",
        "outputId": "75466523-9cc5-4729-b5b4-44e10fcd850e"
      },
      "outputs": [
        {
          "name": "stdout",
          "output_type": "stream",
          "text": [
            "    Nombre  Edad Ciudad\n",
            "0    Alice    25      A\n",
            "1      Bob    30      B\n",
            "2  Charlie    35      C\n"
          ]
        }
      ],
      "source": [
        "#Data Frames y columnas\n",
        "\n",
        "datos = {\"Nombre\": [\"Alice\", \"Bob\", \"Charlie\"],\n",
        "        \"Edad\": [25, 30, 35],\n",
        "        \"Ciudad\": [\"A\", \"B\", \"C\"]}\n",
        "df = pd.DataFrame(datos)\n",
        "print(df)\n",
        "\n",
        "\n"
      ]
    },
    {
      "cell_type": "markdown",
      "metadata": {
        "id": "UmN9ZYYzW5nM"
      },
      "source": [
        "Hay muchas formas de construir un DataFrame, aunque una de las más comunes es\n",
        "de un dict de listas de igual longitud o matrices numpy:\n",
        "\n",
        "Para grandes marcos de datos, el método head selecciona solo las primeras cinco\n",
        "las:"
      ]
    },
    {
      "cell_type": "code",
      "execution_count": 26,
      "metadata": {
        "colab": {
          "base_uri": "https://localhost:8080/"
        },
        "id": "SdKF8gFec-JY",
        "outputId": "73212262-87d4-4f4e-e651-c6b42a8feec4"
      },
      "outputs": [
        {
          "name": "stdout",
          "output_type": "stream",
          "text": [
            "    state  year  pop\n",
            "0    Ohio  2000  1.5\n",
            "1    Ohio  2001  1.7\n",
            "2    Ohio  2002  3.6\n",
            "3  Nevada  2001  2.4\n",
            "4  Nevada  2002  2.9\n"
          ]
        }
      ],
      "source": [
        "data = {\n",
        "        \"state\":[\"Ohio\", \"Ohio\", \"Ohio\", \"Nevada\", \"Nevada\", \"Nevada\"],\n",
        "        \"year\":[2000, 2001, 2002, 2001, 2002, 2003],\n",
        "        \"pop\":[1.5, 1.7, 3.6, 2.4, 2.9, 3.2]\n",
        "        }\n",
        "\n",
        "frame = pd.DataFrame(data)\n",
        "\n",
        "# Imprimir las primeras filas del DataFrame\n",
        "print(frame.head())"
      ]
    },
    {
      "cell_type": "markdown",
      "metadata": {
        "id": "KLi5CjEGriY-"
      },
      "source": [
        "Manejo de DataFrames en pandas\n",
        "Columnas de DataFrame\n",
        "Si especica una secuencia de columnas, las columnas de DataFrame se organizarán\n",
        "en esa orden:\n",
        "\n",
        "Si pasa una columna que no está contenida en el dict, aparecerá con los valores\n",
        "faltantes en el resultado:"
      ]
    },
    {
      "cell_type": "code",
      "execution_count": 29,
      "metadata": {
        "colab": {
          "base_uri": "https://localhost:8080/"
        },
        "id": "0f8acwfVroS5",
        "outputId": "2415527e-c77d-4207-c21c-2c36bd166a49"
      },
      "outputs": [
        {
          "data": {
            "text/plain": [
              "Index(['year', 'state', 'pop', 'debt'], dtype='object')"
            ]
          },
          "execution_count": 29,
          "metadata": {},
          "output_type": "execute_result"
        }
      ],
      "source": [
        "pd.DataFrame(data, columns=[\"year\", \"state\", \"pop\"])\n",
        "\n",
        "frame2 = pd.DataFrame(data, columns=[\"year\", \"state\", \"pop\", \"debt\"],\n",
        "                      index=[\"one\", \"two\", \"three\", \"four\", \"five\", \"six\"])\n",
        "frame2\n",
        "frame2.columns"
      ]
    },
    {
      "cell_type": "markdown",
      "metadata": {
        "id": "HzUKDVe85GBE"
      },
      "source": [
        "llamar una columna:\n",
        "Se puede llamar una columna en un DataFrame como una Serie, ya sea por notación\n",
        "similar a dict o por atributo:"
      ]
    },
    {
      "cell_type": "code",
      "execution_count": 30,
      "metadata": {
        "colab": {
          "base_uri": "https://localhost:8080/",
          "height": 272
        },
        "id": "CyL2mQ6N5IQn",
        "outputId": "fc8d6c23-a3ba-4eb0-fe58-e916f87c0b4b"
      },
      "outputs": [
        {
          "data": {
            "text/html": [
              "<table border=\"1\" class=\"dataframe\">\n",
              "  <thead>\n",
              "    <tr style=\"text-align: right;\">\n",
              "      <th></th>\n",
              "      <th>year</th>\n",
              "    </tr>\n",
              "  </thead>\n",
              "  <tbody>\n",
              "    <tr>\n",
              "      <th>one</th>\n",
              "      <td>2000</td>\n",
              "    </tr>\n",
              "    <tr>\n",
              "      <th>two</th>\n",
              "      <td>2001</td>\n",
              "    </tr>\n",
              "    <tr>\n",
              "      <th>three</th>\n",
              "      <td>2002</td>\n",
              "    </tr>\n",
              "    <tr>\n",
              "      <th>four</th>\n",
              "      <td>2001</td>\n",
              "    </tr>\n",
              "    <tr>\n",
              "      <th>five</th>\n",
              "      <td>2002</td>\n",
              "    </tr>\n",
              "    <tr>\n",
              "      <th>six</th>\n",
              "      <td>2003</td>\n",
              "    </tr>\n",
              "  </tbody>\n",
              "</table><br><label><b>dtype:</b> int64</label>"
            ],
            "text/plain": [
              "one      2000\n",
              "two      2001\n",
              "three    2002\n",
              "four     2001\n",
              "five     2002\n",
              "six      2003\n",
              "Name: year, dtype: int64"
            ]
          },
          "execution_count": 30,
          "metadata": {},
          "output_type": "execute_result"
        }
      ],
      "source": [
        "frame2[\"state\"]\n",
        "frame2.year"
      ]
    },
    {
      "cell_type": "markdown",
      "metadata": {
        "id": "rvZ-Yk475XWQ"
      },
      "source": [
        "frame2[columna] funciona para cualquier nombre de columna,\n",
        "frame2.columna Solo funciona cuando el nombre de la columna es una variable\n",
        "Python válida nombre."
      ]
    },
    {
      "cell_type": "markdown",
      "metadata": {
        "id": "m86eSnPj5d_I"
      },
      "source": [
        "Mostrar cómo utilizar etiquetas y posiciones para\n",
        "indexar en Pandas.\n",
        "La indexación avanzada en Pandas es una\n",
        "característica poderosa que permite acceder y\n",
        "manipular datos de manera más especíca utilizando\n",
        "etiquetas y posiciones.\n",
        "Indexación por Etiquetas:\n",
        "Para acceder a datos utilizando etiquetas, puedes usar\n",
        "los métodos loc[ ] o at[  ]. El siguiente ejemplo ilustra\n",
        "cómo seleccionar una la y una columna especícas\n",
        "por etiquetas:"
      ]
    },
    {
      "cell_type": "code",
      "execution_count": null,
      "metadata": {
        "id": "9wDu1Dqa5jke"
      },
      "outputs": [],
      "source": [
        "datos = {\"Nombre\": [\"Alice\", \"Bob\", \"Charlie\"],\n",
        "         \"Edad\": [25, 30, 35],\n",
        "         \"Ciudad\": [\"A\", \"B\", \"C\"]\n",
        "         }\n",
        "df = pd.DataFrame(datos, index=[\"a\", \"b\", \"c\"])\n",
        "\n",
        "#seleccionar datos con loc[]\n",
        "\n",
        "seleccion_loc = df.loc[\"b\", \"Edad\"]\n",
        "print(seleccion_loc)\n",
        "\n",
        "seleccion_at = df.at[\"b\", \"Edad\"]\n",
        "print(seleccion_at)"
      ]
    }
  ],
  "metadata": {
    "colab": {
      "provenance": []
    },
    "kernelspec": {
      "display_name": "Python 3",
      "name": "python3"
    },
    "language_info": {
      "name": "python"
    }
  },
  "nbformat": 4,
  "nbformat_minor": 0
}
