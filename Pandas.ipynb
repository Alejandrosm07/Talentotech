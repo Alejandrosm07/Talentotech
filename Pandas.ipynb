{
  "nbformat": 4,
  "nbformat_minor": 0,
  "metadata": {
    "colab": {
      "provenance": []
    },
    "kernelspec": {
      "name": "python3",
      "display_name": "Python 3"
    },
    "language_info": {
      "name": "python"
    }
  },
  "cells": [
    {
      "cell_type": "code",
      "execution_count": null,
      "metadata": {
        "colab": {
          "base_uri": "https://localhost:8080/"
        },
        "id": "uRee-SXlQmmw",
        "outputId": "2e5c7321-c1d3-49e3-c294-c334b2739c11"
      },
      "outputs": [
        {
          "output_type": "stream",
          "name": "stdout",
          "text": [
            "a    1\n",
            "b    2\n",
            "c    3\n",
            "d    4\n",
            "e    5\n",
            "dtype: int64\n"
          ]
        }
      ],
      "source": [
        "import pandas as pd\n",
        "#Series y Etiquetas\n",
        "data = [1, 2, 3, 4, 5]\n",
        "etiquetas = [\"a\", \"b\", \"c\", \"d\", \"e\"]\n",
        "series = pd.Series(data, index=etiquetas)\n",
        "print(series)"
      ]
    },
    {
      "cell_type": "markdown",
      "source": [
        "DataFrames: Un DataFrame es una estructura bidimensional etiquetada con columnas\n",
        "que pueden contener diferentes tipos de datos. Puedes pensar en él como una hoja de\n",
        "cálculo o una tabla SQL.\n",
        "\n",
        "Columnas: Cada columna en un DataFrame es esencialmente una Serie.\n",
        "\n",
        "Índices: Los DataFrames tienen índices tanto para las como para columnas.\n",
        "Creación de un DataFrame:"
      ],
      "metadata": {
        "id": "vm5e4aGNUH-h"
      }
    },
    {
      "cell_type": "code",
      "source": [
        "#Data Frames y columnas\n",
        "\n",
        "datos = {\"Nombre\": [\"Alice\", \"Bob\", \"Charlie\"],\n",
        "        \"Edad\": [25, 30, 35],\n",
        "        \"Ciudad\": [\"A\", \"B\", \"C\"]}\n",
        "df = pd.DataFrame(datos)\n",
        "print(df)\n",
        "\n",
        "\n"
      ],
      "metadata": {
        "colab": {
          "base_uri": "https://localhost:8080/"
        },
        "id": "kEBzE05nUPkO",
        "outputId": "122a4f7b-9ea8-4705-afc0-4ae94dcfc263"
      },
      "execution_count": null,
      "outputs": [
        {
          "output_type": "stream",
          "name": "stdout",
          "text": [
            "    Nombre  Edad Ciudad\n",
            "0    Alice    25      A\n",
            "1      Bob    30      B\n",
            "2  Charlie    35      C\n"
          ]
        }
      ]
    },
    {
      "cell_type": "markdown",
      "source": [
        "Hay muchas formas de construir un DataFrame, aunque una de las más comunes es\n",
        "de un dict de listas de igual longitud o matrices numpy:\n",
        "\n",
        "Para grandes marcos de datos, el método head selecciona solo las primeras cinco\n",
        "las:"
      ],
      "metadata": {
        "id": "UmN9ZYYzW5nM"
      }
    },
    {
      "cell_type": "code",
      "source": [
        "data = {\n",
        "        \"state\":[\"Ohio\", \"Ohio\", \"Ohio\", \"Nevada\", \"Nevada\", \"Nevada\"],\n",
        "        \"year\":[2000, 2001, 2002, 2001, 2002, 2003],\n",
        "        \"pop\":[1.5, 1.7, 3.6, 2.4, 2.9, 3.2]\n",
        "        }\n",
        "\n",
        "frame = pd.DataFrame(data)\n",
        "\n",
        "# Imprimir las primeras filas del DataFrame\n",
        "print(frame.head())"
      ],
      "metadata": {
        "colab": {
          "base_uri": "https://localhost:8080/"
        },
        "id": "SdKF8gFec-JY",
        "outputId": "d694e6d2-db24-472d-c857-b1f0bac1edc6"
      },
      "execution_count": null,
      "outputs": [
        {
          "output_type": "stream",
          "name": "stdout",
          "text": [
            "    state  year  pop\n",
            "0    Ohio  2000  1.5\n",
            "1    Ohio  2001  1.7\n",
            "2    Ohio  2002  3.6\n",
            "3  Nevada  2001  2.4\n",
            "4  Nevada  2002  2.9\n"
          ]
        }
      ]
    },
    {
      "cell_type": "markdown",
      "source": [
        "Manejo de DataFrames en pandas\n",
        "Columnas de DataFrame\n",
        "Si especica una secuencia de columnas, las columnas de DataFrame se organizarán\n",
        "en esa orden:\n",
        "\n",
        "Si pasa una columna que no está contenida en el dict, aparecerá con los valores\n",
        "faltantes en el resultado:"
      ],
      "metadata": {
        "id": "KLi5CjEGriY-"
      }
    },
    {
      "cell_type": "code",
      "source": [
        "pd.DataFrame(data, columns=[\"year\", \"state\", \"pop\"])\n",
        "\n",
        "frame2 = pd.DataFrame(data, columns=[\"year\", \"state\", \"pop\", \"debt\"],\n",
        "                      index=[\"one\", \"two\", \"three\", \"four\", \"five\", \"six\"])\n",
        "frame2\n",
        "frame2.columns"
      ],
      "metadata": {
        "colab": {
          "base_uri": "https://localhost:8080/"
        },
        "id": "0f8acwfVroS5",
        "outputId": "30315bad-0759-4637-ab07-9f4e55455f2c"
      },
      "execution_count": null,
      "outputs": [
        {
          "output_type": "execute_result",
          "data": {
            "text/plain": [
              "Index(['year', 'state', 'pop', 'debt'], dtype='object')"
            ]
          },
          "metadata": {},
          "execution_count": 11
        }
      ]
    },
    {
      "cell_type": "markdown",
      "source": [
        "llamar una columna:\n",
        "Se puede llamar una columna en un DataFrame como una Serie, ya sea por notación\n",
        "similar a dict o por atributo:"
      ],
      "metadata": {
        "id": "HzUKDVe85GBE"
      }
    },
    {
      "cell_type": "code",
      "source": [
        "frame2[\"state\"]\n",
        "frame2.year"
      ],
      "metadata": {
        "id": "CyL2mQ6N5IQn",
        "colab": {
          "base_uri": "https://localhost:8080/",
          "height": 272
        },
        "outputId": "37c00a01-a55b-48a8-b4a9-0c2351e9cf0f"
      },
      "execution_count": null,
      "outputs": [
        {
          "output_type": "execute_result",
          "data": {
            "text/plain": [
              "one      2000\n",
              "two      2001\n",
              "three    2002\n",
              "four     2001\n",
              "five     2002\n",
              "six      2003\n",
              "Name: year, dtype: int64"
            ],
            "text/html": [
              "<table border=\"1\" class=\"dataframe\">\n",
              "  <thead>\n",
              "    <tr style=\"text-align: right;\">\n",
              "      <th></th>\n",
              "      <th>year</th>\n",
              "    </tr>\n",
              "  </thead>\n",
              "  <tbody>\n",
              "    <tr>\n",
              "      <th>one</th>\n",
              "      <td>2000</td>\n",
              "    </tr>\n",
              "    <tr>\n",
              "      <th>two</th>\n",
              "      <td>2001</td>\n",
              "    </tr>\n",
              "    <tr>\n",
              "      <th>three</th>\n",
              "      <td>2002</td>\n",
              "    </tr>\n",
              "    <tr>\n",
              "      <th>four</th>\n",
              "      <td>2001</td>\n",
              "    </tr>\n",
              "    <tr>\n",
              "      <th>five</th>\n",
              "      <td>2002</td>\n",
              "    </tr>\n",
              "    <tr>\n",
              "      <th>six</th>\n",
              "      <td>2003</td>\n",
              "    </tr>\n",
              "  </tbody>\n",
              "</table><br><label><b>dtype:</b> int64</label>"
            ]
          },
          "metadata": {},
          "execution_count": 12
        }
      ]
    },
    {
      "cell_type": "markdown",
      "source": [
        "Mostrar cómo utilizar etiquetas y posiciones para\n",
        "indexar en Pandas.\n",
        "La indexación avanzada en Pandas es una\n",
        "característica poderosa que permite acceder y\n",
        "manipular datos de manera más especíca utilizando\n",
        "etiquetas y posiciones.\n",
        "Indexación por Etiquetas:\n",
        "Para acceder a datos utilizando etiquetas, puedes usar\n",
        "los métodos loc[ ] o at[  ]. El siguiente ejemplo ilustra\n",
        "cómo seleccionar una la y una columna especícas\n",
        "por etiquetas:"
      ],
      "metadata": {
        "id": "zxgRDYQII1EK"
      }
    },
    {
      "cell_type": "code",
      "source": [
        "datos = {\"Nombre\": [\"Alice\", \"Bob\", \"Charlie\"],\n",
        "         \"Edad\": [25, 30, 35],\n",
        "         \"Ciudad\": [\"A\", \"B\", \"C\"]\n",
        "         }\n",
        "df = pd.DataFrame(datos, index=[\"a\", \"b\", \"c\"])\n",
        "\n",
        "#seleccionar datos con loc[]\n",
        "\n",
        "seleccion_loc = df.loc[\"b\", \"Edad\"]\n",
        "print(seleccion_loc)\n",
        "\n",
        "#seleccionar datos con at[]\n",
        "seleccion_at = df.at[\"b\", \"Edad\"]\n",
        "print(seleccion_at)"
      ],
      "metadata": {
        "colab": {
          "base_uri": "https://localhost:8080/"
        },
        "id": "pOjkVIPfI20t",
        "outputId": "3433cd57-cb5f-45a3-c08c-b3a1c91d48ad"
      },
      "execution_count": null,
      "outputs": [
        {
          "output_type": "stream",
          "name": "stdout",
          "text": [
            "30\n",
            "30\n"
          ]
        }
      ]
    },
    {
      "cell_type": "markdown",
      "source": [
        "Indexación por Posiciones:\n",
        "Para acceder a datos utilizando posiciones,\n",
        "puedes usar los métodos iloc[ ] o iat[ ]. Aquí hay\n",
        "un ejemplo de cómo seleccionar datos basados\n",
        "en posiciones:\n",
        "Estos métodos proporcionan exibilidad para\n",
        "acceder a datos especícos en un DataFrame de\n",
        "Pandas, ya sea mediante etiquetas o posiciones\n",
        "numéricas. La elección entre ellos dependerá de\n",
        "tus necesidades especícas de indexación en el\n",
        "análisis de datos."
      ],
      "metadata": {
        "id": "z9PVUUX9JJQt"
      }
    },
    {
      "cell_type": "code",
      "source": [
        "datos = {\"Nombre\": [\"Alice\", \"Bob\", \"Charlie\"],\n",
        "         \"Edad\": [25, 30, 35],\n",
        "         \"Ciudad\": [\"A\", \"B\", \"C\"]\n",
        "         }\n",
        "df = pd.DataFrame(datos, index=[\"a\", \"b\", \"c\"])\n",
        "\n",
        "#seleccionar datos con iloc[]\n",
        "\n",
        "seleccion_iloc = df.iloc[1, 1]\n",
        "print(seleccion_iloc)\n",
        "\n",
        "#seleccionar datos con iat[]\n",
        "seleccion_iat = df.iat[1, 1]\n",
        "print(seleccion_iat)"
      ],
      "metadata": {
        "colab": {
          "base_uri": "https://localhost:8080/"
        },
        "id": "etpEwlGCJMHj",
        "outputId": "80446eef-e93f-4411-a71a-017c7d73721d"
      },
      "execution_count": null,
      "outputs": [
        {
          "output_type": "stream",
          "name": "stdout",
          "text": [
            "30\n",
            "30\n"
          ]
        }
      ]
    },
    {
      "cell_type": "markdown",
      "source": [
        "En Pandas, los DataFrames admiten una amplia\n",
        "variedad de operaciones aritméticas que facilitan\n",
        "el procesamiento y análisis de datos. Las\n",
        "operaciones aritméticas comunes en DataFrames:\n",
        "Operaciones Elemento a Elemento:\n",
        "Puedes realizar operaciones aritméticas elemento\n",
        "a elemento en un DataFrame. Por ejemplo, sumar\n",
        "un valor constante a todas las entradas del\n",
        "DataFrame"
      ],
      "metadata": {
        "id": "7uhEP9x7J6Ug"
      }
    },
    {
      "cell_type": "code",
      "source": [
        "datos = {\"A\": [1, 2, 3],\n",
        "         \"B\": [4, 5, 6]}\n",
        "df = pd.DataFrame(datos)\n",
        "\n",
        "#sumar 10 todas las entradas\n",
        "df_suma = df + 10\n",
        "print(df_suma)"
      ],
      "metadata": {
        "colab": {
          "base_uri": "https://localhost:8080/"
        },
        "id": "oHscMAgsJ7xs",
        "outputId": "d0befb0f-4eb9-423a-dc9f-8e8fb390b234"
      },
      "execution_count": null,
      "outputs": [
        {
          "output_type": "stream",
          "name": "stdout",
          "text": [
            "    A   B\n",
            "0  11  14\n",
            "1  12  15\n",
            "2  13  16\n"
          ]
        }
      ]
    },
    {
      "cell_type": "markdown",
      "source": [
        "Operaciones entre DataFrames:\n",
        "También puedes realizar operaciones entre\n",
        "DataFrames. Las operaciones se realizan en\n",
        "función de las etiquetas y las columnas\n",
        "coincidentes:"
      ],
      "metadata": {
        "id": "kqa9jA1_Lbsa"
      }
    },
    {
      "cell_type": "code",
      "source": [
        "datos1 = {\"A\": [1, 2, 3],\n",
        "          \"B\": [4, 5, 6]}\n",
        "df1 = pd.DataFrame(datos1)\n",
        "\n",
        "datos2 = {\"A\": [10, 20, 30],\n",
        "          \"B\": [40, 50, 61]}\n",
        "df2 = pd.DataFrame(datos2)\n",
        "\n",
        "#sumar DataFrame\n",
        "\n",
        "sumar_df = df1 + df2\n",
        "print(sumar_df)"
      ],
      "metadata": {
        "colab": {
          "base_uri": "https://localhost:8080/"
        },
        "id": "87o0nZ-hLfTS",
        "outputId": "9d857ba5-83c8-4d02-cdf1-c906b3c8987c"
      },
      "execution_count": null,
      "outputs": [
        {
          "output_type": "stream",
          "name": "stdout",
          "text": [
            "    A   B\n",
            "0  11  44\n",
            "1  22  55\n",
            "2  33  67\n"
          ]
        }
      ]
    },
    {
      "cell_type": "markdown",
      "source": [
        "**Operaciones con Series:**\n",
        "Las operaciones aritméticas también se pueden\n",
        "realizar entre DataFrames y Series. Pandas alinea\n",
        "automáticamente los índices antes de realizar la\n",
        "operación:\n",
        "Estas operaciones aritméticas son esenciales\n",
        "para realizar cálculos ecientes en conjuntos de\n",
        "datos de Pandas, facilitando el análisis y\n",
        "procesamiento de datos en el ámbito de la\n",
        "inteligencia articial y la ciencia de datos."
      ],
      "metadata": {
        "id": "TxfUYDdVNjxA"
      }
    },
    {
      "cell_type": "code",
      "source": [
        "datos = {\"A\": [1, 2, 3],\n",
        "         \"B\": [4, 5, 6]}\n",
        "\n",
        "df = pd.DataFrame(datos)\n",
        "\n",
        "series = pd.Series([10, 20], index = [\"A\", \"B\"])\n",
        "\n",
        "#sumar DataFrame y series\n",
        "\n",
        "resultado = df + series\n",
        "print(resultado)"
      ],
      "metadata": {
        "colab": {
          "base_uri": "https://localhost:8080/"
        },
        "id": "B1wXiyIvNo2a",
        "outputId": "f30423fd-7c63-4153-e1d1-5da6cd7ea6a7"
      },
      "execution_count": null,
      "outputs": [
        {
          "output_type": "stream",
          "name": "stdout",
          "text": [
            "    A   B\n",
            "0  11  24\n",
            "1  12  25\n",
            "2  13  26\n"
          ]
        }
      ]
    },
    {
      "cell_type": "markdown",
      "source": [
        "**Cargar una base de datos a Pandas**\n",
        "Puedes utilizar la función read_csv() si tu base de datos está en formato CSV (valores separados por\n",
        "comas), o read_excel() si tu base de datos está en formato Excel.\n",
        "\n",
        "Cargar desde un archivo CSV:"
      ],
      "metadata": {
        "id": "6h9bTOrrP5WS"
      }
    },
    {
      "cell_type": "code",
      "source": [
        "#cargar la base de datos desde un archivo CSV\n",
        "data = pd.read_csv(\"Nombre del archivo.csv\")\n",
        "\n",
        "#mostrar las primeras filas de la base de datos\n",
        "print(data.head())"
      ],
      "metadata": {
        "id": "1xL8muVlQpUv"
      },
      "execution_count": null,
      "outputs": []
    },
    {
      "cell_type": "markdown",
      "source": [
        " Cargar desde un archivo Excel:"
      ],
      "metadata": {
        "id": "IgibQe3xRblj"
      }
    },
    {
      "cell_type": "code",
      "source": [
        "#cargar la base de datos desde un archivo excel\n",
        "data = pd.read_csv(\"Nombre del archivo.xlsx\")\n",
        "\n",
        "#mostrar las primeras filas de la base de datos\n",
        "print(data.head())"
      ],
      "metadata": {
        "id": "PE9lwMyURgl_"
      },
      "execution_count": null,
      "outputs": []
    },
    {
      "cell_type": "markdown",
      "source": [
        "En ambos casos, nombre_del_archivo.csv y nombre_del_archivo.xlsx deben reemplazarse\n",
        "con la ruta y el nombre de tu archivo CSV o Excel. La función head() se utiliza para mostrar\n",
        "las primeras las de la base de datos cargada, lo que te permite vericar que se haya\n",
        "cargado correctamente.\n",
        "Además de estas dos funciones, Pandas también ofrece métodos para leer datos desde\n",
        "otros formatos de archivo, como archivos JSON, archivos HTML, bases de datos SQL, entre\n",
        "otros. Puedes explorar la documentación de Pandas para obtener más información sobre\n",
        "cómo cargar datos desde diferentes fuentes."
      ],
      "metadata": {
        "id": "JHUz0O0YSRq-"
      }
    },
    {
      "cell_type": "markdown",
      "source": [
        "**Visualización de datos en pandas**\n",
        "La visualización de datos es una parte crucial del análisis exploratorio de datos, ya que nos\n",
        "permite comprender mejor los patrones, tendencias y relaciones dentro de nuestros\n",
        "conjuntos de datos. Pandas ofrece una variedad de opciones para crear visualizaciones\n",
        "efectivas directamente desde los DataFrames."
      ],
      "metadata": {
        "id": "6SZzHEjeSXfE"
      }
    },
    {
      "cell_type": "markdown",
      "source": [
        "Gráfico de Barras para la Distribución de\n",
        "una Variable Categórica:\n",
        "Los grácos de barras son útiles para visualizar la distribución de variables categóricas\n",
        "mostrando la frecuencia o conteo de cada categoría."
      ],
      "metadata": {
        "id": "AusOA6YIScd9"
      }
    },
    {
      "cell_type": "code",
      "source": [
        "import pandas as pd\n",
        "import matplotlib.pyplot as plt\n",
        "\n",
        "#crear un DataFrame con datos de ejemplo\n",
        "\n",
        "data = {\"Categoria\": [\"A\", \"B\", \"C\", \"A\", \"B\", \"C\", \"A\", \"B\", \"A\"],\n",
        "        \"Valor\": [10, 20, 15, 25, 30, 20, 35, 40, 45]}\n",
        "df = pd.DataFrame(data)\n",
        "\n",
        "#Crear un grafico de barras\n",
        "\n",
        "df[\"Categoria\"].value_counts().plot(kind=\"bar\")\n",
        "plt.title(\"Distribucion de la varieble categorias\")\n",
        "plt.xlabel(\"Categoria\")\n",
        "plt.ylabel(\"Frecuencia\")\n",
        "plt.show()"
      ],
      "metadata": {
        "colab": {
          "base_uri": "https://localhost:8080/",
          "height": 467
        },
        "id": "z9YskSAZSfny",
        "outputId": "b5280f29-e4ee-4ab2-a9f3-3e8002e9b815"
      },
      "execution_count": null,
      "outputs": [
        {
          "output_type": "display_data",
          "data": {
            "text/plain": [
              "<Figure size 640x480 with 1 Axes>"
            ],
            "image/png": "[encoded data removed]"
          },
          "metadata": {}
        }
      ]
    },
    {
      "cell_type": "markdown",
      "source": [
        "Gráfico de Dispersión para la Relación\n",
        "entre dos Variables Numéricas:\n",
        "Los grácos de dispersión son ideales para visualizar la relación entre dos variables\n",
        "numéricas, mostrando cómo se distribuyen los puntos en un plano cartesiano"
      ],
      "metadata": {
        "id": "cS9fNeDuU8uz"
      }
    },
    {
      "cell_type": "code",
      "source": [
        "#Crear un grafico de dispersion\n",
        "\n",
        "df.plot(kind=\"scatter\", x=\"Categoria\", y= \"Valor\", color=\"blue\")\n",
        "plt.title(\"Relacion entre dos variebles numericas\")\n",
        "plt.xlabel(\"Categoria\")\n",
        "plt.ylabel(\"Valor\")\n",
        "plt.show()"
      ],
      "metadata": {
        "colab": {
          "base_uri": "https://localhost:8080/",
          "height": 472
        },
        "id": "pjrGyWSvU-NR",
        "outputId": "063418ef-fa7b-4bb7-dacc-2ac895e4362a"
      },
      "execution_count": null,
      "outputs": [
        {
          "output_type": "display_data",
          "data": {
            "text/plain": [
              "<Figure size 640x480 with 1 Axes>"
            ],
            "image/png": "[encoded data removed]"
          },
          "metadata": {}
        }
      ]
    },
    {
      "cell_type": "markdown",
      "source": [
        "Gráfico de Líneas para Visualizar\n",
        "Tendencias a lo Largo del Tiempo:\n",
        "Los grácos de líneas son efectivos para visualizar tendencias y cambios en una variable a\n",
        "lo largo del tiempo o de alguna otra dimensión temporal."
      ],
      "metadata": {
        "id": "M0Qpur4lWIHW"
      }
    },
    {
      "cell_type": "code",
      "source": [
        "#crear un DataFrame con datos de ejemplo\n",
        "\n",
        "time_series = pd.date_range(\"2023-01-01\", periods=10)\n",
        "data = {\"Fecha\": time_series,\n",
        "        \"Valor\": [10, 25, 15, 25, 30, 35, 40, 50, 45, 55]}\n",
        "df = pd.DataFrame(data)\n",
        "\n",
        "#crear un grafico de lineas\n",
        "df.plot(x=\"Fecha\", y=\"Valor\", color=\"green\")\n",
        "plt.title(\"Tendencias a lo largo del tiempo\")\n",
        "plt.xlabel(\"Fecha\")\n",
        "plt.ylabel(\"Valor\")\n",
        "plt.show()"
      ],
      "metadata": {
        "colab": {
          "base_uri": "https://localhost:8080/",
          "height": 504
        },
        "id": "q5QyTvKzWJIA",
        "outputId": "2a07b77b-80d2-4456-e024-2f1838e33640"
      },
      "execution_count": null,
      "outputs": [
        {
          "output_type": "display_data",
          "data": {
            "text/plain": [
              "<Figure size 640x480 with 1 Axes>"
            ],
            "image/png": "[encoded data removed]"
          },
          "metadata": {}
        }
      ]
    },
    {
      "cell_type": "markdown",
      "source": [
        "Gráficos de Líneas\n",
        "Estos ejemplos ilustran cómo crear visualizaciones básicas utilizando Pandas y Matplotlib.\n",
        "Sin embargo, Pandas también proporciona métodos más avanzados para la visualización de\n",
        "datos, como diagramas de caja, histogramas, grácos de densidad y más, que pueden ser\n",
        "explorados para mejorar la comprensión de tus datos."
      ],
      "metadata": {
        "id": "V9XuGXdYYY3g"
      }
    },
    {
      "cell_type": "markdown",
      "source": [
        "**Ejercicios para practicar\n",
        "con Panda**\n",
        "Cargar y Explorar Datos:"
      ],
      "metadata": {
        "id": "EBYHHfyGYcqH"
      }
    },
    {
      "cell_type": "code",
      "source": [
        "#a. Carga un conjunto de datos de tu elección en un DataFrame\n",
        "data = pd.read_csv(\"IceCreamData.csv\")\n",
        "\n",
        "\n",
        "#b. Muestra las primeras filas del DataFrame\n",
        "print(data.head())\n",
        "\n",
        "#c. Muestra las últimas las del DataFrame.\n",
        "print(data.tail())\n",
        "\n",
        "#d. Muestra la información del DataFrame, incluyendo tipos de datos y valores no nulos\n",
        "print(data.info())"
      ],
      "metadata": {
        "colab": {
          "base_uri": "https://localhost:8080/"
        },
        "id": "r0vf7FQpYoze",
        "outputId": "e347edd7-4eae-44ac-ba63-333c38a5dce7"
      },
      "execution_count": null,
      "outputs": [
        {
          "output_type": "stream",
          "name": "stdout",
          "text": [
            "   Temperature     Revenue\n",
            "0    24.566884  534.799028\n",
            "1    26.005191  625.190122\n",
            "2    27.790554  660.632289\n",
            "3    20.595335  487.706960\n",
            "4    11.503498  316.240194\n",
            "     Temperature     Revenue\n",
            "495    22.274899  524.746364\n",
            "496    32.893092  755.818399\n",
            "497    12.588157  306.090719\n",
            "498    22.362402  566.217304\n",
            "499    28.957736  655.660388\n",
            "<class 'pandas.core.frame.DataFrame'>\n",
            "RangeIndex: 500 entries, 0 to 499\n",
            "Data columns (total 2 columns):\n",
            " #   Column       Non-Null Count  Dtype  \n",
            "---  ------       --------------  -----  \n",
            " 0   Temperature  500 non-null    float64\n",
            " 1   Revenue      500 non-null    float64\n",
            "dtypes: float64(2)\n",
            "memory usage: 7.9 KB\n",
            "None\n"
          ]
        }
      ]
    },
    {
      "cell_type": "code",
      "source": [
        "#a. Selecciona una columna especíca del DataFrame.\n",
        "\n",
        "# Selección de la columna 'Temperature'\n",
        "temperature_column = data['Temperature']\n",
        "\n",
        "print(temperature_column.head())\n",
        "\n",
        "#b. Filtra el DataFrame para mostrar solo las las que cumplen cierta condición\n",
        "# Filtrar el DataFrame para mostrar solo las filas donde la temperatura es mayor a 25\n",
        "filtered_data = data[data['Temperature'] > 25]\n",
        "\n",
        "print(filtered_data.head())\n",
        "\n",
        "#c. Selecciona las y columnas específicas del DataFrame utilizando la indexación.\n",
        "# Seleccionar las primeras 5 filas y las columnas 'Temperature' y 'Revenue'\n",
        "selected_data = data.iloc[:5, :]\n",
        "\n",
        "print(selected_data)\n",
        "\n",
        "# Filtrar y seleccionar columnas específicas usando `loc`\n",
        "selected_data = data.loc[data['Temperature'] > 25, ['Temperature', 'Revenue']]\n",
        "\n",
        "print(selected_data.head())\n",
        "\n"
      ],
      "metadata": {
        "colab": {
          "base_uri": "https://localhost:8080/"
        },
        "id": "OuFM5LD5b736",
        "outputId": "f57452ee-077b-44c3-e795-07cac2f0551b"
      },
      "execution_count": null,
      "outputs": [
        {
          "output_type": "stream",
          "name": "stdout",
          "text": [
            "0    24.566884\n",
            "1    26.005191\n",
            "2    27.790554\n",
            "3    20.595335\n",
            "4    11.503498\n",
            "Name: Temperature, dtype: float64\n",
            "    Temperature     Revenue\n",
            "1     26.005191  625.190122\n",
            "2     27.790554  660.632289\n",
            "7     30.833985  696.716640\n",
            "9     31.669465  737.800824\n",
            "14    39.539909  905.477604\n",
            "   Temperature     Revenue\n",
            "0    24.566884  534.799028\n",
            "1    26.005191  625.190122\n",
            "2    27.790554  660.632289\n",
            "3    20.595335  487.706960\n",
            "4    11.503498  316.240194\n",
            "    Temperature     Revenue\n",
            "1     26.005191  625.190122\n",
            "2     27.790554  660.632289\n",
            "7     30.833985  696.716640\n",
            "9     31.669465  737.800824\n",
            "14    39.539909  905.477604\n"
          ]
        }
      ]
    },
    {
      "cell_type": "code",
      "source": [
        "#Manipulación de Datos:\n",
        "#a. Agrega una nueva columna al DataFrame.\n",
        "import pandas as pd\n",
        "\n",
        "# Crear el DataFrame de ejemplo\n",
        "data = {\n",
        "    'Temperature': [22, 25, 30, 17, 27],\n",
        "    'Revenue': [521, 600, 700, 405, 642]\n",
        "}\n",
        "df = pd.DataFrame(data)\n",
        "\n",
        "# a. Agregar una nueva columna 'Revenue_Per_Temperature'\n",
        "# La nueva columna será el ingreso dividido por la temperatura\n",
        "df['Revenue_Per_Temperature'] = df['Revenue'] / df['Temperature']\n",
        "\n",
        "# Mostrar el DataFrame actualizado\n",
        "print(df)\n"
      ],
      "metadata": {
        "colab": {
          "base_uri": "https://localhost:8080/"
        },
        "id": "PXWlqsUXjwXs",
        "outputId": "43017c37-39a9-45c1-c7fd-3e860619ba28"
      },
      "execution_count": null,
      "outputs": [
        {
          "output_type": "stream",
          "name": "stdout",
          "text": [
            "   Temperature  Revenue  Revenue_Per_Temperature\n",
            "0           22      521                23.681818\n",
            "1           25      600                24.000000\n",
            "2           30      700                23.333333\n",
            "3           17      405                23.823529\n",
            "4           27      642                23.777778\n"
          ]
        }
      ]
    },
    {
      "cell_type": "code",
      "source": [
        "#b. Elimina una columna del DataFrame.\n",
        "# Eliminar la columna 'Revenue_Per_Temperature'\n",
        "\"\"\"df.drop('Revenue_Per_Temperature', axis=1, inplace=True)\n",
        "\n",
        "# Mostrar el DataFrame actualizado\n",
        "print(df)\"\"\"\n",
        "\n",
        "# Crear el DataFrame de ejemplo\n",
        "data = {\n",
        "    'Temperature': [22, 25, 30, 17, 27],\n",
        "    'Revenue': [521, 600, 700, 405, 642],\n",
        "    'Revenue_Per_Temperature': [521/22, 600/25, 700/30, 405/17, 642/27]  # Esta es la columna que queremos eliminar\n",
        "}\n",
        "df = pd.DataFrame(data)\n",
        "\n",
        "print(\"DataFrame original:\")\n",
        "print(df)\n",
        "\n",
        "# b. Eliminar la columna 'Revenue_Per_Temperature'\n",
        "df = df.drop(columns=['Revenue_Per_Temperature'])\n",
        "\n",
        "print(\"\\nDataFrame después de eliminar la columna 'Revenue_Per_Temperature':\")\n",
        "print(df)\n"
      ],
      "metadata": {
        "colab": {
          "base_uri": "https://localhost:8080/"
        },
        "id": "a0DsLZAakbrj",
        "outputId": "31717601-f609-4bac-b1ae-3262d07c7f66"
      },
      "execution_count": null,
      "outputs": [
        {
          "output_type": "stream",
          "name": "stdout",
          "text": [
            "DataFrame original:\n",
            "   Temperature  Revenue  Revenue_Per_Temperature\n",
            "0           22      521                23.681818\n",
            "1           25      600                24.000000\n",
            "2           30      700                23.333333\n",
            "3           17      405                23.823529\n",
            "4           27      642                23.777778\n",
            "\n",
            "DataFrame después de eliminar la columna 'Revenue_Per_Temperature':\n",
            "   Temperature  Revenue\n",
            "0           22      521\n",
            "1           25      600\n",
            "2           30      700\n",
            "3           17      405\n",
            "4           27      642\n"
          ]
        }
      ]
    },
    {
      "cell_type": "code",
      "source": [
        "#c. Renombra una columna del DataFrame\n",
        "# Crear el DataFrame de ejemplo\n",
        "data = {\n",
        "    'Temperature': [22, 25, 30, 17, 27],\n",
        "    'Revenue': [521, 600, 700, 405, 642]\n",
        "}\n",
        "df = pd.DataFrame(data)\n",
        "\n",
        "print(\"DataFrame original:\")\n",
        "print(df)\n",
        "\n",
        "# c. Renombrar la columna 'Temperature' a 'Temp_Celsius'\n",
        "df = df.rename(columns={'Temperature': 'Temp_Celsius'})\n",
        "\n",
        "print(\"\\nDataFrame después de renombrar la columna 'Temperature' a 'Temp_Celsius':\")\n",
        "print(df)\n"
      ],
      "metadata": {
        "colab": {
          "base_uri": "https://localhost:8080/"
        },
        "id": "HTtw4L0Zk5tI",
        "outputId": "3f51bd76-557e-4077-d7f6-eb764a5f285a"
      },
      "execution_count": null,
      "outputs": [
        {
          "output_type": "stream",
          "name": "stdout",
          "text": [
            "DataFrame original:\n",
            "   Temperature  Revenue\n",
            "0           22      521\n",
            "1           25      600\n",
            "2           30      700\n",
            "3           17      405\n",
            "4           27      642\n",
            "\n",
            "DataFrame después de renombrar la columna 'Temperature' a 'Temp_Celsius':\n",
            "   Temp_Celsius  Revenue\n",
            "0            22      521\n",
            "1            25      600\n",
            "2            30      700\n",
            "3            17      405\n",
            "4            27      642\n"
          ]
        }
      ]
    },
    {
      "cell_type": "code",
      "source": [
        "#d. Ordena el DataFrame por una columna especíca\n",
        "# Crear el DataFrame de ejemplo\n",
        "data = {\n",
        "    'Temperature': [22, 25, 30, 17, 27],\n",
        "    'Revenue': [521, 600, 700, 405, 642]\n",
        "}\n",
        "df = pd.DataFrame(data)\n",
        "\n",
        "print(\"DataFrame original:\")\n",
        "print(df)\n",
        "\n",
        "# d. Ordenar el DataFrame por la columna 'Revenue' en orden ascendente\n",
        "df_sorted_ascending = df.sort_values(by='Revenue')\n",
        "\n",
        "print(\"\\nDataFrame ordenado por 'Revenue' en orden ascendente:\")\n",
        "print(df_sorted_ascending)\n",
        "\n",
        "# Ordenar el DataFrame por la columna 'Revenue' en orden descendente\n",
        "df_sorted_descending = df.sort_values(by='Revenue', ascending=False)\n",
        "\n",
        "print(\"\\nDataFrame ordenado por 'Revenue' en orden descendente:\")\n",
        "print(df_sorted_descending)\n"
      ],
      "metadata": {
        "colab": {
          "base_uri": "https://localhost:8080/"
        },
        "id": "WEdURiKHojRv",
        "outputId": "bd0bf967-8fc0-4cc7-b4a1-98791a94b887"
      },
      "execution_count": null,
      "outputs": [
        {
          "output_type": "stream",
          "name": "stdout",
          "text": [
            "DataFrame original:\n",
            "   Temperature  Revenue\n",
            "0           22      521\n",
            "1           25      600\n",
            "2           30      700\n",
            "3           17      405\n",
            "4           27      642\n",
            "\n",
            "DataFrame ordenado por 'Revenue' en orden ascendente:\n",
            "   Temperature  Revenue\n",
            "3           17      405\n",
            "0           22      521\n",
            "1           25      600\n",
            "4           27      642\n",
            "2           30      700\n",
            "\n",
            "DataFrame ordenado por 'Revenue' en orden descendente:\n",
            "   Temperature  Revenue\n",
            "2           30      700\n",
            "4           27      642\n",
            "1           25      600\n",
            "0           22      521\n",
            "3           17      405\n"
          ]
        }
      ]
    },
    {
      "cell_type": "code",
      "source": [
        "#Agrupación y Resumen de Datos:\n",
        "#a. Agrupa el DataFrame por una columna especíca y calcula estadísticas resumidas, como la media, la mediana y la desviación estándar\n",
        "import pandas as pd\n",
        "\n",
        "# Crear el DataFrame de ejemplo\n",
        "data = {\n",
        "    'Temperature': [22, 25, 30, 17, 27, 25, 22, 30],\n",
        "    'Revenue': [521, 600, 700, 405, 642, 550, 500, 720]\n",
        "}\n",
        "df = pd.DataFrame(data)\n",
        "\n",
        "print(\"DataFrame original:\")\n",
        "print(df)\n",
        "\n",
        "# a. Agrupar el DataFrame por la columna 'Temperature' y calcular estadísticas resumidas para 'Revenue'\n",
        "grouped = df.groupby('Temperature')['Revenue'].agg(['mean', 'median', 'std'])\n",
        "\n",
        "print(\"\\nEstadísticas resumidas por 'Temperature':\")\n",
        "print(grouped)\n"
      ],
      "metadata": {
        "colab": {
          "base_uri": "https://localhost:8080/"
        },
        "id": "ZxzvTjXxozxR",
        "outputId": "0062ceb0-ec0c-4451-ce4b-0bd44af240d8"
      },
      "execution_count": null,
      "outputs": [
        {
          "output_type": "stream",
          "name": "stdout",
          "text": [
            "DataFrame original:\n",
            "   Temperature  Revenue\n",
            "0           22      521\n",
            "1           25      600\n",
            "2           30      700\n",
            "3           17      405\n",
            "4           27      642\n",
            "5           25      550\n",
            "6           22      500\n",
            "7           30      720\n",
            "\n",
            "Estadísticas resumidas por 'Temperature':\n",
            "              mean  median        std\n",
            "Temperature                          \n",
            "17           405.0   405.0        NaN\n",
            "22           510.5   510.5  14.849242\n",
            "25           575.0   575.0  35.355339\n",
            "27           642.0   642.0        NaN\n",
            "30           710.0   710.0  14.142136\n"
          ]
        }
      ]
    },
    {
      "cell_type": "code",
      "source": [
        "#b. Calcula la suma, el promedio y el recuento de una columna especíca para cada grupo en el DataFrame agrupado\n",
        "# Crear el DataFrame de ejemplo\n",
        "data = {\n",
        "    'Temperature': [22, 25, 30, 17, 27, 25, 22, 30],\n",
        "    'Revenue': [521, 600, 700, 405, 642, 550, 500, 720]\n",
        "}\n",
        "df = pd.DataFrame(data)\n",
        "\n",
        "print(\"DataFrame original:\")\n",
        "print(df)\n",
        "\n",
        "# b. Agrupar el DataFrame por la columna 'Temperature' y calcular la suma, el promedio y el recuento de 'Revenue'\n",
        "grouped_stats = df.groupby('Temperature')['Revenue'].agg(['sum', 'mean', 'count'])\n",
        "\n",
        "print(\"\\nEstadísticas por 'Temperature':\")\n",
        "print(grouped_stats)\n"
      ],
      "metadata": {
        "colab": {
          "base_uri": "https://localhost:8080/"
        },
        "id": "Uin21qCRpD2R",
        "outputId": "246c1684-1475-4231-8e30-6fb6d116dac5"
      },
      "execution_count": null,
      "outputs": [
        {
          "output_type": "stream",
          "name": "stdout",
          "text": [
            "DataFrame original:\n",
            "   Temperature  Revenue\n",
            "0           22      521\n",
            "1           25      600\n",
            "2           30      700\n",
            "3           17      405\n",
            "4           27      642\n",
            "5           25      550\n",
            "6           22      500\n",
            "7           30      720\n",
            "\n",
            "Estadísticas por 'Temperature':\n",
            "              sum   mean  count\n",
            "Temperature                    \n",
            "17            405  405.0      1\n",
            "22           1021  510.5      2\n",
            "25           1150  575.0      2\n",
            "27            642  642.0      1\n",
            "30           1420  710.0      2\n"
          ]
        }
      ]
    },
    {
      "cell_type": "code",
      "source": [
        "#c. Calcula la correlación entre dos columnas del DataFrame\n",
        "# Crear el DataFrame de ejemplo\n",
        "data = {\n",
        "    'Temperature': [22, 25, 30, 17, 27, 25, 22, 30],\n",
        "    'Revenue': [521, 600, 700, 405, 642, 550, 500, 720]\n",
        "}\n",
        "df = pd.DataFrame(data)\n",
        "\n",
        "print(\"DataFrame original:\")\n",
        "print(df)\n",
        "\n",
        "# c. Calcular la correlación entre 'Temperature' y 'Revenue'\n",
        "correlation = df['Temperature'].corr(df['Revenue'])\n",
        "\n",
        "print(\"\\nCorrelación entre 'Temperature' y 'Revenue':\")\n",
        "print(correlation)\n"
      ],
      "metadata": {
        "colab": {
          "base_uri": "https://localhost:8080/"
        },
        "id": "uLVeEHkvpT6Q",
        "outputId": "051618e8-8bee-4298-8424-ec8ffdd669cc"
      },
      "execution_count": null,
      "outputs": [
        {
          "output_type": "stream",
          "name": "stdout",
          "text": [
            "DataFrame original:\n",
            "   Temperature  Revenue\n",
            "0           22      521\n",
            "1           25      600\n",
            "2           30      700\n",
            "3           17      405\n",
            "4           27      642\n",
            "5           25      550\n",
            "6           22      500\n",
            "7           30      720\n",
            "\n",
            "Correlación entre 'Temperature' y 'Revenue':\n",
            "0.986394975204989\n"
          ]
        }
      ]
    },
    {
      "cell_type": "code",
      "source": [
        "#Visualización de Datos:\n",
        "#a. Crea un gráco de barras para mostrar la distribución de una variable categórica\n",
        "import pandas as pd\n",
        "import matplotlib.pyplot as plt\n",
        "\n",
        "# Crear el DataFrame de ejemplo con datos de ventas por región\n",
        "data = {\n",
        "    'Region': ['North', 'South', 'East', 'West', 'North', 'East', 'South', 'West', 'North', 'East'],\n",
        "    'Sales': [150, 200, 250, 300, 180, 220, 210, 290, 160, 230]\n",
        "}\n",
        "df = pd.DataFrame(data)\n",
        "\n",
        "# Contar la frecuencia de cada región\n",
        "region_counts = df['Region'].value_counts()\n",
        "\n",
        "# Crear el gráfico de barras\n",
        "plt.figure(figsize=(8, 6))\n",
        "region_counts.plot(kind='bar', color='lightblue')\n",
        "plt.title('Distribución de Ventas por Región')\n",
        "plt.xlabel('Región')\n",
        "plt.ylabel('Frecuencia')\n",
        "plt.xticks(rotation=0)\n",
        "plt.grid(axis='y', linestyle='--', alpha=0.7)\n",
        "plt.show()\n"
      ],
      "metadata": {
        "colab": {
          "base_uri": "https://localhost:8080/",
          "height": 565
        },
        "id": "6C2DBltrq-lD",
        "outputId": "85bfc4c2-9430-445d-eb23-280b73e0787a"
      },
      "execution_count": null,
      "outputs": [
        {
          "output_type": "display_data",
          "data": {
            "text/plain": [
              "<Figure size 800x600 with 1 Axes>"
            ],
            "image/png": "[encoded data removed]"
          },
          "metadata": {}
        }
      ]
    },
    {
      "cell_type": "code",
      "source": [
        "#b. Crea un gráco de dispersión para mostrar la relación entre dos variables numéricas\n",
        "# Crear el DataFrame de ejemplo con datos de altura y peso\n",
        "data = {\n",
        "    'Height_cm': [160, 165, 170, 175, 180, 185, 190, 195, 200, 205],\n",
        "    'Weight_kg': [55, 60, 65, 70, 75, 80, 85, 90, 95, 100]\n",
        "}\n",
        "df = pd.DataFrame(data)\n",
        "\n",
        "# Crear el gráfico de dispersión\n",
        "plt.figure(figsize=(8, 6))\n",
        "plt.scatter(df['Height_cm'], df['Weight_kg'], color='blue', alpha=0.7)\n",
        "plt.title('Relación entre Altura y Peso')\n",
        "plt.xlabel('Altura (cm)')\n",
        "plt.ylabel('Peso (kg)')\n",
        "plt.grid(True)\n",
        "plt.show()\n",
        "\n"
      ],
      "metadata": {
        "colab": {
          "base_uri": "https://localhost:8080/",
          "height": 565
        },
        "id": "7w3DNsX_rHfl",
        "outputId": "467a26e3-ea23-4ea5-ec56-901a96352354"
      },
      "execution_count": null,
      "outputs": [
        {
          "output_type": "display_data",
          "data": {
            "text/plain": [
              "<Figure size 800x600 with 1 Axes>"
            ],
            "image/png": "[encoded data removed]"
          },
          "metadata": {}
        }
      ]
    },
    {
      "cell_type": "code",
      "source": [
        "#c. Crea un gráco de líneas para visualizar tendencias a lo largo del tiempo\n",
        "# Crear el DataFrame de ejemplo con datos de ventas mensuales\n",
        "dates = pd.date_range(start='2024-01-01', periods=12, freq='M')\n",
        "data = {\n",
        "    'Month': dates,\n",
        "    'Monthly_Sales': [1000, 1100, 1050, 1150, 1200, 1250, 1300, 1400, 1350, 1450, 1500, 1550]\n",
        "}\n",
        "df = pd.DataFrame(data)\n",
        "\n",
        "# Crear el gráfico de líneas\n",
        "plt.figure(figsize=(10, 6))\n",
        "plt.plot(df['Month'], df['Monthly_Sales'], marker='o', linestyle='-', color='red')\n",
        "plt.title('Tendencia de Ventas Mensuales')\n",
        "plt.xlabel('Mes')\n",
        "plt.ylabel('Ventas Mensuales')\n",
        "plt.grid(True)\n",
        "plt.xticks(rotation=45)\n",
        "plt.tight_layout()\n",
        "plt.show()\n"
      ],
      "metadata": {
        "colab": {
          "base_uri": "https://localhost:8080/",
          "height": 607
        },
        "id": "xZN-cSJ1rdae",
        "outputId": "338bf131-ff35-440d-8a33-9de218ad0498"
      },
      "execution_count": null,
      "outputs": [
        {
          "output_type": "display_data",
          "data": {
            "text/plain": [
              "<Figure size 1000x600 with 1 Axes>"
            ],
            "image/png": "[encoded data removed]"
          },
          "metadata": {}
        }
      ]
    }
  ]
}