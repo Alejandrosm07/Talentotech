{
  "nbformat": 4,
  "nbformat_minor": 0,
  "metadata": {
    "colab": {
      "provenance": []
    },
    "kernelspec": {
      "name": "python3",
      "display_name": "Python 3"
    },
    "language_info": {
      "name": "python"
    }
  },
  "cells": [
    {
      "cell_type": "code",
      "execution_count": null,
      "metadata": {
        "colab": {
          "base_uri": "https://localhost:8080/"
        },
        "id": "nSLAuFTvQFdB",
        "outputId": "7c03d12a-b4cd-4a7a-8471-83eb1b08a2fe"
      },
      "outputs": [
        {
          "output_type": "stream",
          "name": "stdout",
          "text": [
            "Max está ladrando\n"
          ]
        }
      ],
      "source": [
        "class Perro:\n",
        "    def __init__(self, nombre, edad):\n",
        "        self.nombre = nombre\n",
        "        self.edad = edad\n",
        "\n",
        "    def ladrar(self):\n",
        "        print(f\"Max está ladrando\")\n",
        "\n",
        "mi_perro = Perro(\"Max\", 3)\n",
        "mi_perro.ladrar()"
      ]
    },
    {
      "cell_type": "code",
      "source": [
        "class Persona:\n",
        "    def __init__(self, nombre, edad):\n",
        "        self.nombre = nombre\n",
        "        self.edad = edad\n",
        "\n",
        "    def saludar(self):\n",
        "        print(f\"Hola, mi nombre es {self.nombre} y tengo {self.edad} años\")\n",
        "\n",
        "persona1 = Persona(\"Juan\", 25)\n",
        "persona1.saludar()\n",
        "\n",
        "print(persona1.nombre)\n",
        "print(persona1.edad)"
      ],
      "metadata": {
        "colab": {
          "base_uri": "https://localhost:8080/"
        },
        "id": "A-MEWGf7oAgY",
        "outputId": "a1d3d980-5721-4c7f-cbd0-f07b06e5572a"
      },
      "execution_count": null,
      "outputs": [
        {
          "output_type": "stream",
          "name": "stdout",
          "text": [
            "Hola, mi nombre es Juan y tengo 25 años\n",
            "Juan\n",
            "25\n"
          ]
        }
      ]
    },
    {
      "cell_type": "code",
      "source": [
        "class Retangulo:\n",
        "    def __init__(self, base, altura):\n",
        "        self.base = base\n",
        "        self.altura = altura\n",
        "\n",
        "    def area(self):\n",
        "        return self.base * self.altura\n",
        "\n",
        "    def perimetro(self):\n",
        "        return 2 * (self.base + self.altura)\n",
        "\n",
        "retangulo1 = Retangulo(5, 3)\n",
        "print(retangulo1.area())\n",
        "print(retangulo1.perimetro())"
      ],
      "metadata": {
        "colab": {
          "base_uri": "https://localhost:8080/"
        },
        "id": "xEuW34xupWav",
        "outputId": "0445ef5b-d173-4cb0-84f0-c8d84531d300"
      },
      "execution_count": null,
      "outputs": [
        {
          "output_type": "stream",
          "name": "stdout",
          "text": [
            "15\n",
            "16\n"
          ]
        }
      ]
    },
    {
      "cell_type": "code",
      "source": [
        "class Animal:\n",
        "    def __init__(self, nombre):\n",
        "        self.nombre = nombre\n",
        "\n",
        "class Perro(Animal):\n",
        "    def ladrar(self):\n",
        "        print(f\"{self.nombre} está ladrando\")\n",
        "\n",
        "mi_perro = Perro(\"Max\")\n",
        "mi_perro.ladrar()"
      ],
      "metadata": {
        "colab": {
          "base_uri": "https://localhost:8080/"
        },
        "id": "qS_v3O6rpwAw",
        "outputId": "85a6d98b-78f0-4783-bcab-dc7e16804b90"
      },
      "execution_count": null,
      "outputs": [
        {
          "output_type": "stream",
          "name": "stdout",
          "text": [
            "Max está ladrando\n"
          ]
        }
      ]
    },
    {
      "cell_type": "code",
      "source": [
        "class Gato(Animal):\n",
        "    def maullar(self):\n",
        "        print(f\"{self.nombre} está maullando\")\n",
        "\n",
        "gato = Gato(\"Whisquera\")\n",
        "animales = [mi_perro, gato]\n",
        "for animal in animales:\n",
        "    print(animal.nombre)\n",
        "    if isinstance(animal, Perro):\n",
        "        animal.ladrar()\n",
        "    elif isinstance(animal, Gato):\n",
        "        animal.maullar()"
      ],
      "metadata": {
        "colab": {
          "base_uri": "https://localhost:8080/"
        },
        "id": "OjmyCsyyqgAD",
        "outputId": "c32c6bc4-f5dd-4072-d742-2d6bdde73820"
      },
      "execution_count": null,
      "outputs": [
        {
          "output_type": "stream",
          "name": "stdout",
          "text": [
            "Max\n",
            "Max está ladrando\n",
            "Whisquera\n",
            "Whisquera está maullando\n"
          ]
        }
      ]
    },
    {
      "cell_type": "code",
      "source": [
        "class Gato(Animal):\n",
        "    def maullar(self):\n",
        "        print(f\"{self.nombre} está maullando.\")\n",
        "\n",
        "gato = Gato(\"Whisquera\")\n",
        "Animales = [mi_perro, gato]\n",
        "for animal in Animales:\n",
        "    print(animal.nombre)\n",
        "\n",
        "\n"
      ],
      "metadata": {
        "colab": {
          "base_uri": "https://localhost:8080/"
        },
        "id": "OYr2CrUwrN65",
        "outputId": "e7054a23-bc92-431b-eb49-6f44d4293421"
      },
      "execution_count": null,
      "outputs": [
        {
          "output_type": "stream",
          "name": "stdout",
          "text": [
            "Max\n",
            "Whisquera\n"
          ]
        }
      ]
    },
    {
      "cell_type": "code",
      "source": [
        "class Coche:\n",
        "    def __init__(self, marca, modelo):\n",
        "        self.marca = marca\n",
        "        self.modelo = modelo\n",
        "        self.velocidad = 0\n",
        "\n",
        "    def acelerar(self, incremento):\n",
        "        self.velocidad += incremento\n",
        "\n",
        "    def frenar(self, reduccion):\n",
        "        self.velocidad -= reduccion\n",
        "        if self.velocidad < 0:\n",
        "            self.velocidad = 0\n",
        "\n",
        "coche1 = Coche(\"Toyota\", \"Corolla\")\n",
        "coche1.acelerar(30)\n",
        "print(coche1.velocidad)\n",
        "coche1.frenar(10)\n",
        "print(coche1.velocidad)"
      ],
      "metadata": {
        "colab": {
          "base_uri": "https://localhost:8080/"
        },
        "id": "qD3jrSVHsPvW",
        "outputId": "8b3b2f60-a0e0-491a-ec8a-b62391edefb2"
      },
      "execution_count": null,
      "outputs": [
        {
          "output_type": "stream",
          "name": "stdout",
          "text": [
            "30\n",
            "20\n"
          ]
        }
      ]
    },
    {
      "cell_type": "code",
      "source": [],
      "metadata": {
        "id": "ya7Y6dH2s5Yu"
      },
      "execution_count": null,
      "outputs": []
    }
  ]
}