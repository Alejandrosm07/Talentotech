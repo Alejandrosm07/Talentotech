{
  "nbformat": 4,
  "nbformat_minor": 0,
  "metadata": {
    "colab": {
      "provenance": []
    },
    "kernelspec": {
      "name": "python3",
      "display_name": "Python 3"
    },
    "language_info": {
      "name": "python"
    }
  },
  "cells": [
    {
      "cell_type": "code",
      "execution_count": null,
      "metadata": {
        "colab": {
          "base_uri": "https://localhost:8080/"
        },
        "id": "nIOPc-Oq4u7c",
        "outputId": "e77b1fc9-bd01-485f-d1f1-ce743084dfa1"
      },
      "outputs": [
        {
          "output_type": "stream",
          "name": "stdout",
          "text": [
            "[1 2 3 4 5]\n"
          ]
        }
      ],
      "source": [
        "import numpy as np\n",
        "\n",
        "#Creacion de ndarrays = arrays\n",
        "\n",
        "#lista de numeros\n",
        "numeros = [1, 2, 3, 4, 5]\n",
        "\n",
        "#creacion de ndarrays a partir de lista de numeros\n",
        "ndarrays_array = np.array(numeros)\n",
        "\n",
        "print(ndarrays_array)\n",
        "#salida [1 2 3 4 5]"
      ]
    },
    {
      "cell_type": "code",
      "source": [
        "#creacion de un ndarrays de 2x3 con ceros\n",
        "matriz_ceros = np.zeros((2,3))\n",
        "\n",
        "#creacion de un ndarrays de 3x3 con uno\n",
        "matriz_unos = np.ones((3,3))\n",
        "\n",
        "#creacion de un ndarrays con numeros [2,3,5] y [4,7,9]\n",
        "matriz_datos_especificos = np.array([[2, 3, 5],[4, 7, 9]])\n",
        "\n",
        "print(matriz_ceros)\n",
        "print(matriz_unos)\n",
        "print(matriz_datos_especificos)\n"
      ],
      "metadata": {
        "colab": {
          "base_uri": "https://localhost:8080/"
        },
        "id": "0VkZNUVl71Oj",
        "outputId": "bb2f6e54-dbfc-4dee-d692-b2ac7b6101f3"
      },
      "execution_count": null,
      "outputs": [
        {
          "output_type": "stream",
          "name": "stdout",
          "text": [
            "[[0. 0. 0.]\n",
            " [0. 0. 0.]]\n",
            "[[1. 1. 1.]\n",
            " [1. 1. 1.]\n",
            " [1. 1. 1.]]\n",
            "[[2 3 5]\n",
            " [4 7 9]]\n"
          ]
        }
      ]
    },
    {
      "cell_type": "code",
      "source": [
        "#creacion de un ndarray con valores 0, al 9 (sin incluir el 10)\n",
        "numeros_0_a_9 = np.arange(0, 10)\n",
        "print(numeros_0_a_9)\n",
        "\n",
        "#creaion de un ndarray del 1 al 5 de 2 en 2\n",
        "numeros_del_1_al_5 = np.arange(1, 6, 2)\n",
        "print(numeros_del_1_al_5)\n",
        "\n",
        "#creacion de un ndarray con valores del 0 al 4 (sin incuir el 4) de 0.5 en 0.5\n",
        "numeros_0_al_4 = np.arange(0, 4, 0.5)\n",
        "print(numeros_0_al_4)"
      ],
      "metadata": {
        "colab": {
          "base_uri": "https://localhost:8080/"
        },
        "id": "focBWnO293uG",
        "outputId": "15d729fd-8911-487f-c223-2379acfaa079"
      },
      "execution_count": null,
      "outputs": [
        {
          "output_type": "stream",
          "name": "stdout",
          "text": [
            "[0 1 2 3 4 5 6 7 8 9]\n",
            "[1 3 5]\n",
            "[0.  0.5 1.  1.5 2.  2.5 3.  3.5]\n"
          ]
        }
      ]
    },
    {
      "cell_type": "code",
      "source": [
        "#creacion de un ndarray con 10 valores espaciados uniformemente entre 0 y 1\n",
        "numeros_espaciados = np.linspace (0, 1, 10)\n",
        "print(numeros_espaciados)\n",
        "\n",
        "#creacion de un ndarray con 5 valores espaciados uniformemente entre 2 y 10\n",
        "numeros_entre_2_10 = np.linspace(2, 10, 5)\n",
        "print(numeros_entre_2_10)"
      ],
      "metadata": {
        "colab": {
          "base_uri": "https://localhost:8080/"
        },
        "id": "FGzXXKVcAcFo",
        "outputId": "b9c329b6-74d2-4cd5-a863-667ed3c21ee2"
      },
      "execution_count": null,
      "outputs": [
        {
          "output_type": "stream",
          "name": "stdout",
          "text": [
            "[0.         0.22222222 0.44444444 0.66666667 0.88888889 1.11111111\n",
            " 1.33333333 1.55555556 1.77777778 2.        ]\n",
            "[ 2.  4.  6.  8. 10.]\n"
          ]
        }
      ]
    },
    {
      "cell_type": "code",
      "source": [
        "#creacion de un ndarray de 3x3 con numeros aleteorios entre 0 y 1\n",
        "matriz_aleatoria = np.random.rand(3, 3)\n",
        "print(matriz_aleatoria)\n",
        "\n",
        "#creacion de un ndarray de 5 elementos con numeros aleatorios entre 0 y 1\n",
        "vector_aleatorio = np.random.rand(5)\n",
        "print(vector_aleatorio)"
      ],
      "metadata": {
        "colab": {
          "base_uri": "https://localhost:8080/"
        },
        "id": "FnF5ykXHC83d",
        "outputId": "04b8f377-a962-47a7-c900-9404d498b0c4"
      },
      "execution_count": null,
      "outputs": [
        {
          "output_type": "stream",
          "name": "stdout",
          "text": [
            "[[0.19605471 0.50935154 0.39906135]\n",
            " [0.75927057 0.53955923 0.60984748]\n",
            " [0.00699289 0.80700401 0.54817258]]\n",
            "[0.64839649 0.0882076  0.7492956  0.82798621 0.52976033]\n"
          ]
        }
      ]
    },
    {
      "cell_type": "code",
      "source": [
        "#creacion de un ndarray 2D\n",
        "matriz = np.array([[1, 2, 3], [4, 5, 6]])\n",
        "\n",
        "#acceso a un alemnto especifico (fila 1, culumna 2)\n",
        "elemento = matriz[1, 2]\n",
        "print(elemento)\n",
        "\n",
        "#seleccion de una fila (fila 0)\n",
        "fila = matriz[0, :]\n",
        "print(fila)\n",
        "\n",
        "#seleccion de una columna (columna 1)\n",
        "columna = matriz[:, 1]\n",
        "print(columna)"
      ],
      "metadata": {
        "colab": {
          "base_uri": "https://localhost:8080/"
        },
        "id": "IYBaLvnRExxN",
        "outputId": "c79c51ba-bb21-4f3f-b365-b8e338e51896"
      },
      "execution_count": null,
      "outputs": [
        {
          "output_type": "stream",
          "name": "stdout",
          "text": [
            "6\n",
            "[1 2 3]\n",
            "[2 5]\n"
          ]
        }
      ]
    },
    {
      "cell_type": "code",
      "source": [
        "arr = np.array([1, 2, 3])\n",
        "print(np.sum(arr))"
      ],
      "metadata": {
        "colab": {
          "base_uri": "https://localhost:8080/"
        },
        "id": "0dVWNieoJzZ7",
        "outputId": "cf8434d8-90db-4c82-c14c-e80d06078e01"
      },
      "execution_count": null,
      "outputs": [
        {
          "output_type": "stream",
          "name": "stdout",
          "text": [
            "6\n"
          ]
        }
      ]
    },
    {
      "cell_type": "code",
      "source": [
        "from os import renames\n",
        "array = np.array([[1, 2, 3], [4, 5, 6]])\n",
        "reshaped_array = array.reshape(3, 2)\n",
        "fattened_array = array.flatten()\n",
        "transposed_array = array.T\n",
        "print(\"Array Original\")\n",
        "print(array)\n",
        "print(\"Array Reshape\")\n",
        "print(reshaped_array)\n",
        "print(\"Array Flaten\")\n",
        "print(fattened_array)\n",
        "print(\"Array Transposed\")\n",
        "print(transposed_array)\n"
      ],
      "metadata": {
        "colab": {
          "base_uri": "https://localhost:8080/"
        },
        "id": "3C6Mmf7xLDF9",
        "outputId": "362d0009-17e7-4ae8-c331-f1edd9e89008"
      },
      "execution_count": null,
      "outputs": [
        {
          "output_type": "stream",
          "name": "stdout",
          "text": [
            "Array Original\n",
            "[[1 2 3]\n",
            " [4 5 6]]\n",
            "Array Reshape\n",
            "[[1 2]\n",
            " [3 4]\n",
            " [5 6]]\n",
            "Array Flaten\n",
            "[1 2 3 4 5 6]\n",
            "Array Transposed\n",
            "[[1 4]\n",
            " [2 5]\n",
            " [3 6]]\n"
          ]
        }
      ]
    },
    {
      "cell_type": "code",
      "source": [
        "numeros_aleatorios_uniforme = np.random.rand(5)\n",
        "numeros_aleatorios_enteros = np.random.randint(1, 10, size=5)\n",
        "numeros_aleatorios_normales = np.random.randn(2, 2)\n",
        "\n",
        "print(\"Numeros aleatorios uniformes:\")\n",
        "print(numeros_aleatorios_uniforme)\n",
        "print(\"Numeros aleatorios enteros:\")\n",
        "print(numeros_aleatorios_enteros)\n",
        "print(\"Numeros aleatorios normales:\")\n",
        "print(numeros_aleatorios_normales)"
      ],
      "metadata": {
        "colab": {
          "base_uri": "https://localhost:8080/"
        },
        "id": "m_HhCzk5NsEq",
        "outputId": "249a2fbf-88e9-4018-fd09-eb2dafc7857c"
      },
      "execution_count": null,
      "outputs": [
        {
          "output_type": "stream",
          "name": "stdout",
          "text": [
            "Numeros aleatorios uniformes:\n",
            "[0.27418788 0.92560506 0.31492077 0.53130795 0.05479075]\n",
            "Numeros aleatorios enteros:\n",
            "[1 4 8 5 7]\n",
            "Numeros aleatorios normales:\n",
            "[[0.55118636 0.46153518]\n",
            " [0.42491165 0.38060554]]\n"
          ]
        }
      ]
    },
    {
      "cell_type": "code",
      "source": [
        "sumar1 = np.array([1, 2, 3])\n",
        "sumar2 = np.array([4, 5, 6])\n",
        "suma = sumar1 + sumar2\n",
        "print(suma)\n"
      ],
      "metadata": {
        "colab": {
          "base_uri": "https://localhost:8080/"
        },
        "id": "Pn7REWqQO7j3",
        "outputId": "6f11a80d-f7e5-44de-91a5-3c9156f5a9e8"
      },
      "execution_count": null,
      "outputs": [
        {
          "output_type": "stream",
          "name": "stdout",
          "text": [
            "[5 7 9]\n"
          ]
        }
      ]
    },
    {
      "cell_type": "code",
      "source": [
        "multipliacion1 = np.array([1, 2, 3])\n",
        "multiplicacion2 = np.array([4, 5, 6])\n",
        "multi = 2 * multiplicacion2\n",
        "print(multi)\n",
        "\n",
        "suma_matriz_1 = np.array([[1, 2], [3, 4]])\n",
        "suma_matriz_2 = np.array([[5, 6], [7, 8]])\n",
        "suma_matriz = suma_matriz_1 + suma_matriz_2\n",
        "print(suma_matriz)\n"
      ],
      "metadata": {
        "colab": {
          "base_uri": "https://localhost:8080/"
        },
        "id": "LKMmQLOaPlMn",
        "outputId": "72d344e9-7872-479a-a302-58f2fde0ff0e"
      },
      "execution_count": null,
      "outputs": [
        {
          "output_type": "stream",
          "name": "stdout",
          "text": [
            "[ 8 10 12]\n",
            "[[ 6  8]\n",
            " [10 12]]\n"
          ]
        }
      ]
    },
    {
      "cell_type": "code",
      "source": [
        "cambio_de_forma_dimenciones = np.array([1, 2, 3, 4, 5, 6])\n",
        "cambio_de_forma_matriz = cambio_de_forma_dimenciones.reshape(2, 3)\n",
        "print(cambio_de_forma_matriz)\n",
        "\n",
        "sumar_todo = np.array([[1, 2, 3], [4, 5, 6]])\n",
        "suma_todo = np.sum(sumar_todo)\n",
        "print(suma_todo)"
      ],
      "metadata": {
        "colab": {
          "base_uri": "https://localhost:8080/"
        },
        "id": "F256p3IqQtR-",
        "outputId": "de62c51c-6a8a-4ef7-f198-b284e8361f40"
      },
      "execution_count": null,
      "outputs": [
        {
          "output_type": "stream",
          "name": "stdout",
          "text": [
            "[[1 2 3]\n",
            " [4 5 6]]\n",
            "21\n"
          ]
        }
      ]
    },
    {
      "cell_type": "code",
      "source": [
        "calcular_la_media = np.array([[1, 2, 3], [4, 5, 6]])\n",
        "media = np.mean(calcular_la_media)\n",
        "print(media)\n",
        "\n",
        "valor_minimo_y_maximo = np.array([[1, 2, 3], [4, 5, 6]])\n",
        "minimo = np.min(valor_minimo_y_maximo)\n",
        "maximo = np.max(valor_minimo_y_maximo)\n",
        "\n",
        "print(minimo)\n",
        "print(maximo)"
      ],
      "metadata": {
        "colab": {
          "base_uri": "https://localhost:8080/"
        },
        "id": "dWbwm2uxR5xO",
        "outputId": "9acf7fee-6e39-4dde-853c-0822dc668c14"
      },
      "execution_count": null,
      "outputs": [
        {
          "output_type": "stream",
          "name": "stdout",
          "text": [
            "3.5\n",
            "1\n",
            "6\n"
          ]
        }
      ]
    },
    {
      "cell_type": "code",
      "source": [
        "devuelve_el_indice = np.array([5, 2, 8, 1, 7])\n",
        "indice_minimo = devuelve_el_indice.argmin()\n",
        "indice_maximo = devuelve_el_indice.argmax()\n",
        "\n",
        "print(indice_minimo)\n",
        "print(indice_maximo)\n",
        "\n",
        "calcular_desviacion_estandar = np.array([1, 2, 3, 4, 5])\n",
        "desviacion_estandar = np.std(calcular_desviacion_estandar)\n",
        "print(desviacion_estandar)"
      ],
      "metadata": {
        "colab": {
          "base_uri": "https://localhost:8080/"
        },
        "id": "iL6k3RS9TMPO",
        "outputId": "0aa44d0a-8a96-4f36-d924-04e5cfcc558f"
      },
      "execution_count": null,
      "outputs": [
        {
          "output_type": "stream",
          "name": "stdout",
          "text": [
            "3\n",
            "2\n",
            "1.4142135623730951\n"
          ]
        }
      ]
    },
    {
      "cell_type": "code",
      "source": [
        "#Ejercicios Numpy\n",
        "#Creación de Arrays:\n",
        "#a. Crea un array unidimensional de longitud 5 con números enteros aleatorios.\n",
        "import numpy as np\n",
        "\n",
        "unidemencional = np.random.randint(1, 10, size=5)\n",
        "print(unidemencional)\n",
        "\n",
        "#b. Crea un array bidimensional de tamaño 3x3 con valores booleanos True\n",
        "bidimensional = np.full((3, 3), True)\n",
        "print(bidimensional)\n",
        "\n",
        "#c. Crea un array tridimensional de tamaño 2x3x4 con valores otantes aleatorios.\n",
        "tridimencional = np.random.rand(2, 3, 4)\n",
        "print(tridimencional)\n",
        "\n",
        "#Acceso y Modicación de Elementos:\n",
        "#a. Accede al tercer elemento del array creado en el ejercicio 1a.\n",
        "print(unidemencional[2])\n",
        "\n",
        "#b. Modifica el segundo elemento del array creado en el ejercicio 1b\n",
        "bidimensional[1, 1] = False\n",
        "print(bidimensional)\n",
        "\n",
        "#c. Calcula la media de los elementos en la tercera dimensión del array creado en el ejercicio 1c.\n",
        "media = np.mean(tridimencional)\n",
        "print(media)\n",
        "\n",
        "#Operaciones Aritméticas:\n",
        "#a. Crea dos arrays unidimensionales de la misma longitud con números enteros aleatorios y realiza una suma elemento por elemento.\n",
        "unidemencional1 = np.random.randint(1, 10, size=5)\n",
        "unidemencional2 = np.random.randint(1, 10, size=5)\n",
        "suma = unidemencional1 + unidemencional2\n",
        "print(suma)\n",
        "\n",
        "#b. Crea dos arrays bidimensionales de la misma forma y realiza una multiplicación matriz-vector\n",
        "bimencional_1 = np.full(3, 3)\n",
        "bimencional_2 = np.full(3, 3)\n",
        "multiplicacion = bimencional_1 * bimencional_2\n",
        "print(multiplicacion)\n",
        "\n",
        "#c. Calcula el producto punto entre dos arrays tridimensionales de la misma forma\n",
        "tridimencional_1 = np.random.rand(2, 3, 4)\n",
        "tridimencional_2 = np.random.rand(2, 3, 4)\n",
        "producto_punto = tridimencional_1 * tridimencional_2\n",
        "print(producto_punto)\n",
        "\n",
        "#Funciones y Métodos:\n",
        "#a. Crea un array unidimensional con números enteros aleatorios y encuentra el valor\n",
        "\n",
        "unidemencional = np.random.randint(1, 10, size=5)\n",
        "encuentra_el_valor = np.min(unidemencional)\n",
        "print(encuentra_el_valor)\n",
        "\n",
        "#b. Crea un array bidimensional de tamaño 3x3 con valores aleatorios y calcula la suma de cada columna\n",
        "\n",
        "#se crea un array bidimensional de tamaño 3x3 con valores aleatorios\n",
        "array = np.random.randint(0, 10, size=(3, 3))\n",
        "\n",
        "# Imprimir el array\n",
        "print(\"Array 3x3:\")\n",
        "print(array)\n",
        "\n",
        "# Calcular la suma de cada columna\n",
        "suma_columnas = np.sum(array, axis=0)\n",
        "\n",
        "# Imprimir la suma de cada columna\n",
        "print(\"Suma de cada columna:\")\n",
        "print(suma_columnas)\n",
        "\n",
        "#c. Utiliza la función np.linspace() para crear un array unidimensional con 10 elementos equidistantes entre 0 y 1.\n",
        "\n",
        "# Crear un array unidimensional con 10 elementos equidistantes entre 0 y 1\n",
        "array_unidimensional = np.linspace(0, 1, 10)\n",
        "\n",
        "# Imprimir el array\n",
        "print(\"Array con 10 elementos equidistantes entre 0 y 1:\")\n",
        "print(array_unidimensional)\n",
        "\n",
        "#Indexación y Slicing:\n",
        "#a. Crea un array unidimensional con números enteros del 0 al 9 y obtén los elementos pares\n",
        "\n",
        "# Crear un array unidimensional con números enteros del 0 al 9\n",
        "array_unidimensional_numeros_enteros_0_9 = np.arange(9)\n",
        "\n",
        "# Obtener los elementos pares\n",
        "elementos_pares = array_unidimensional_numeros_enteros_0_9[array_unidimensional_numeros_enteros_0_9 % 2 == 0]\n",
        "\n",
        "# Imprimir el array original y los elementos pares\n",
        "print(\"Array original:\")\n",
        "print(array_unidimensional_numeros_enteros_0_9)\n",
        "\n",
        "print(\"Elementos pares:\")\n",
        "print(elementos_pares)\n",
        "\n",
        "#b. Crea un array bidimensional de tamaño 4x4 y obtén la submatriz formada por las primeras 2 filas y las últimas 2 columnas\n",
        "\n",
        "array_unidimensional_4x4 = np.array ([[1, 2, 3, 4], [5, 6, 7, 8], [9, 10, 11, 12], [13, 14, 15, 16]])\n",
        "submatriz = array_unidimensional_4x4[:2, 2:]\n",
        "\n",
        "print(\"Array Original\")\n",
        "print(array_unidimensional_4x4)\n",
        "print(\"Submatriz formada por las primeras 2 filas y las últimas 2 columnas\")\n",
        "print(submatriz)\n",
        "\n",
        "#c. Crea un array tridimensional de tamaño 3x3x3 y obtén el subarray formado por las primeras dos dimensiones\n",
        "\n",
        "array_tridimensional_3x3x3 = np.arange(27).reshape(3, 3, 3)\n",
        "subarray = array_tridimensional_3x3x3[:2, :, :]\n",
        "\n",
        "print(\"Array Original 3x3x3\")\n",
        "print(array_tridimensional_3x3x3)\n",
        "print(\"Subarray formado por las primeras dos dimensiones\")\n",
        "print(subarray)"
      ],
      "metadata": {
        "colab": {
          "base_uri": "https://localhost:8080/"
        },
        "id": "UIY3qjVPVO9T",
        "outputId": "12f47bfb-55ff-4e52-f7a5-35edc8cbd4a8"
      },
      "execution_count": 14,
      "outputs": [
        {
          "output_type": "stream",
          "name": "stdout",
          "text": [
            "[5 7 8 4 4]\n",
            "[[ True  True  True]\n",
            " [ True  True  True]\n",
            " [ True  True  True]]\n",
            "[[[0.52973077 0.42306534 0.38589138 0.46680716]\n",
            "  [0.58393702 0.48530422 0.69079635 0.32446977]\n",
            "  [0.13733572 0.55023376 0.34215667 0.80671471]]\n",
            "\n",
            " [[0.03923686 0.24107455 0.99439401 0.0950591 ]\n",
            "  [0.93631081 0.53161174 0.65053338 0.07499955]\n",
            "  [0.84683179 0.73374541 0.19649385 0.98371006]]]\n",
            "8\n",
            "[[ True  True  True]\n",
            " [ True False  True]\n",
            " [ True  True  True]]\n",
            "0.5021018323784063\n",
            "[14 11  6  8 13]\n",
            "[9 9 9]\n",
            "[[[0.11611413 0.24996415 0.04420371 0.20392628]\n",
            "  [0.12424523 0.86014579 0.12215509 0.24541149]\n",
            "  [0.20278246 0.34818128 0.12161639 0.0189466 ]]\n",
            "\n",
            " [[0.4134213  0.04662638 0.19375668 0.06333437]\n",
            "  [0.22833609 0.2925404  0.07379697 0.51906754]\n",
            "  [0.00809065 0.30911234 0.10399443 0.64973542]]]\n",
            "1\n",
            "Array 3x3:\n",
            "[[6 1 8]\n",
            " [1 1 3]\n",
            " [9 1 9]]\n",
            "Suma de cada columna:\n",
            "[16  3 20]\n",
            "Array con 10 elementos equidistantes entre 0 y 1:\n",
            "[0.         0.11111111 0.22222222 0.33333333 0.44444444 0.55555556\n",
            " 0.66666667 0.77777778 0.88888889 1.        ]\n",
            "Array original:\n",
            "[0 1 2 3 4 5 6 7 8]\n",
            "Elementos pares:\n",
            "[0 2 4 6 8]\n",
            "Array Original\n",
            "[[ 1  2  3  4]\n",
            " [ 5  6  7  8]\n",
            " [ 9 10 11 12]\n",
            " [13 14 15 16]]\n",
            "Submatriz formada por las primeras 2 filas y las últimas 2 columnas\n",
            "[[3 4]\n",
            " [7 8]]\n",
            "Array Original 3x3x3\n",
            "[[[ 0  1  2]\n",
            "  [ 3  4  5]\n",
            "  [ 6  7  8]]\n",
            "\n",
            " [[ 9 10 11]\n",
            "  [12 13 14]\n",
            "  [15 16 17]]\n",
            "\n",
            " [[18 19 20]\n",
            "  [21 22 23]\n",
            "  [24 25 26]]]\n",
            "Subarray formado por las primeras dos dimensiones\n",
            "[[[ 0  1  2]\n",
            "  [ 3  4  5]\n",
            "  [ 6  7  8]]\n",
            "\n",
            " [[ 9 10 11]\n",
            "  [12 13 14]\n",
            "  [15 16 17]]]\n"
          ]
        }
      ]
    }
  ]
}